{
 "cells": [
  {
   "cell_type": "markdown",
   "id": "94672f80",
   "metadata": {},
   "source": [
    "Regresion Lineal"
   ]
  },
  {
   "cell_type": "code",
   "execution_count": 1,
   "id": "418c5d81",
   "metadata": {},
   "outputs": [
    {
     "name": "stdout",
     "output_type": "stream",
     "text": [
      "   metro  precio\n",
      "0      5     375\n",
      "1     15     487\n",
      "2     20     450\n",
      "3     25     500\n"
     ]
    }
   ],
   "source": [
    "# Importamos las bibliotecas necesarias\n",
    "import numpy as np\n",
    "import pandas as pd\n",
    "from sklearn import datasets, linear_model\n",
    "import matplotlib.pyplot as plt\n",
    "\n",
    "# Definimos la longitud deseada, en este caso, 4\n",
    "length = 4\n",
    "\n",
    "# Cargamos el conjunto de datos desde un archivo CSV\n",
    "df = pd.read_csv('c:/datos/Dataset_Regresion_Lineal.csv', index_col=False, header=0)\n",
    "\n",
    "# Extraemos las columnas 'metro' y 'precio' como variables independientes (x) y dependientes (y)\n",
    "x = df.metro.values\n",
    "y = df.precio.values\n",
    "\n",
    "# Imprimimos el conjunto de datos para visualizarlo\n",
    "print(df)"
   ]
  },
  {
   "cell_type": "code",
   "execution_count": 2,
   "id": "c126b5c9",
   "metadata": {},
   "outputs": [
    {
     "name": "stdout",
     "output_type": "stream",
     "text": [
      "a: 361.25714285714287\n",
      "b: 5.645714285714287\n"
     ]
    }
   ],
   "source": [
    "# Damos forma a los datos para que puedan ser utilizados en la regresión lineal\n",
    "x = x.reshape(length, 1)\n",
    "y = y.reshape(length, 1)\n",
    "\n",
    "# Realizamos una regresión lineal\n",
    "regr = linear_model.LinearRegression()\n",
    "regr.fit(x, y)\n",
    "\n",
    "# Imprimimos los coeficientes 'a' (intercepto) y 'b' (pendiente)\n",
    "print(\"a: %s\" % (regr.intercept_[0]))\n",
    "print(\"b: %s\" % (regr.coef_[0][0]))"
   ]
  },
  {
   "cell_type": "code",
   "execution_count": 3,
   "id": "6eb1270e",
   "metadata": {},
   "outputs": [
    {
     "name": "stdout",
     "output_type": "stream",
     "text": [
      "Predicción. Si x=35 entonces y=558.8571428571429\n"
     ]
    }
   ],
   "source": [
    "# Realizamos una predicción para un valor específico de 'x'\n",
    "X_predict = 35\n",
    "y_predict = regr.predict(np.array([[X_predict]]))\n",
    "\n",
    "# Imprimimos la predicción\n",
    "print(\"Predicción. Si x=%s entonces y=%s\" % (X_predict, y_predict[0][0]))"
   ]
  },
  {
   "cell_type": "code",
   "execution_count": 4,
   "id": "220e294f",
   "metadata": {},
   "outputs": [
    {
     "data": {
      "image/png": "[encoded data removed]",
      "text/plain": [
       "<Figure size 640x480 with 1 Axes>"
      ]
     },
     "metadata": {},
     "output_type": "display_data"
    }
   ],
   "source": [
    "# Graficamos los datos y la línea de regresión\n",
    "plt.scatter(x, y, color='blue')\n",
    "plt.plot(x, regr.predict(x), color='green', linewidth=3)\n",
    "plt.xticks(())\n",
    "plt.yticks(())\n",
    "plt.show()"
   ]
  },
  {
   "cell_type": "markdown",
   "id": "48640a1e",
   "metadata": {},
   "source": [
    "Estadísticas descriptivas básicas:"
   ]
  },
  {
   "cell_type": "code",
   "execution_count": 5,
   "id": "cd720e7d",
   "metadata": {},
   "outputs": [
    {
     "name": "stdout",
     "output_type": "stream",
     "text": [
      "Media de precios: 453.0\n",
      "Desviación estándar de precios: 48.62612466565683\n",
      "Valor mínimo de precios: 375\n",
      "Valor máximo de precios: 500\n"
     ]
    }
   ],
   "source": [
    "#Podemos calcular estadísticas descriptivas básicas para comprender la distribución de tus datos. \n",
    "# Estadísticas descriptivas básicas\n",
    "print(\"Media de precios:\", np.mean(y))\n",
    "print(\"Desviación estándar de precios:\", np.std(y))\n",
    "print(\"Valor mínimo de precios:\", np.min(y))\n",
    "print(\"Valor máximo de precios:\", np.max(y))\n"
   ]
  },
  {
   "cell_type": "markdown",
   "id": "486ba7f1",
   "metadata": {},
   "source": [
    "Coeficientes de la regresión lineal:"
   ]
  },
  {
   "cell_type": "code",
   "execution_count": 6,
   "id": "f46c1fb8",
   "metadata": {},
   "outputs": [
    {
     "name": "stdout",
     "output_type": "stream",
     "text": [
      "Coeficiente a: 361.25714285714287\n",
      "Coeficiente b: 5.645714285714287\n"
     ]
    }
   ],
   "source": [
    "#Podemos obtener informacion sobre la relacion entre las variables x e y. \n",
    "#los coeficientes de la regresion nos indican la pendiente (b) y la interseccion (a) de la linea de regresion.\n",
    "print(\"Coeficiente a:\", regr.intercept_[0])\n",
    "print(\"Coeficiente b:\", regr.coef_[0][0])\n",
    "#El coeficiente \"a\" representa el valor de la intersección en el eje y, \n",
    "#y el coeficiente \"b\" representa la pendiente de la línea de regresión."
   ]
  },
  {
   "cell_type": "markdown",
   "id": "c296c43e",
   "metadata": {},
   "source": [
    "Predicciones y análisis de errores:"
   ]
  },
  {
   "cell_type": "code",
   "execution_count": 7,
   "id": "34185f92",
   "metadata": {},
   "outputs": [
    {
     "name": "stdout",
     "output_type": "stream",
     "text": [
      "Errores:\n",
      "[[-14.48571429]\n",
      " [ 41.05714286]\n",
      " [-24.17142857]\n",
      " [ -2.4       ]]\n",
      "Error medio absoluto: 20.52857142857144\n",
      "Error cuadrado medio: 621.385714285714\n"
     ]
    }
   ],
   "source": [
    "#POdemos realizar predicciones utilizando el modelo de regresión lineal y luego analizar los errores\n",
    "#entre las predicciones y los valores reales.\n",
    "y_pred = regr.predict(x)\n",
    "errores = y - y_pred\n",
    "print(\"Errores:\")\n",
    "print(errores)\n",
    "print(\"Error medio absoluto:\", np.mean(np.abs(errores)))\n",
    "print(\"Error cuadrado medio:\", np.mean(errores**2))\n",
    "\n",
    "#aca podemos entender como se desempeña en la prediccion de los valores de \"y\" en funcion de \"x\""
   ]
  },
  {
   "cell_type": "code",
   "execution_count": null,
   "id": "e1b9d564",
   "metadata": {},
   "outputs": [],
   "source": []
  }
 ],
 "metadata": {
  "kernelspec": {
   "display_name": "Python 3 (ipykernel)",
   "language": "python",
   "name": "python3"
  },
  "language_info": {
   "codemirror_mode": {
    "name": "ipython",
    "version": 3
   },
   "file_extension": ".py",
   "mimetype": "text/x-python",
   "name": "python",
   "nbconvert_exporter": "python",
   "pygments_lexer": "ipython3",
   "version": "3.11.4"
  }
 },
 "nbformat": 4,
 "nbformat_minor": 5
}
